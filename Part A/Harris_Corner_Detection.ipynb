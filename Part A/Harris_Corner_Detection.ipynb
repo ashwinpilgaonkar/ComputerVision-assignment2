{
 "cells": [
  {
   "cell_type": "code",
   "execution_count": 1,
   "id": "531e5419",
   "metadata": {},
   "outputs": [],
   "source": [
    "import cv2\n",
    "import skimage.io as io\n",
    "import matplotlib.pyplot as plt\n",
    "import numpy as np\n",
    "from scipy import signal\n",
    "from skimage.io import imread\n",
    "from skimage.color import rgb2gray\n",
    "from scipy.ndimage import sobel, gaussian_filter, convolve"
   ]
  },
  {
   "cell_type": "code",
   "execution_count": 2,
   "id": "59dbd1f5",
   "metadata": {},
   "outputs": [
    {
     "data": {
      "text/plain": [
       "array([[255, 245, 255,   0,   4],\n",
       "       [231, 240, 255,   0,  13],\n",
       "       [255, 255, 239,   8,   0],\n",
       "       [  0,  11,  14,   0,   4],\n",
       "       [ 24,  18,   0,   6,   7]], dtype=uint8)"
      ]
     },
     "execution_count": 2,
     "metadata": {},
     "output_type": "execute_result"
    },
    {
     "data": {
      "image/png": "[encoded data removed]",
      "text/plain": [
       "<Figure size 432x288 with 1 Axes>"
      ]
     },
     "metadata": {
      "needs_background": "light"
     },
     "output_type": "display_data"
    }
   ],
   "source": [
    "# Load image and convert it to grayscale:\n",
    "input = imread('corner.jpg')\n",
    "plt.imshow(input, cmap='gray')\n",
    "input = cv2.cvtColor(input, cv2.COLOR_RGB2GRAY)\n",
    "input"
   ]
  },
  {
   "cell_type": "code",
   "execution_count": 3,
   "id": "f175573e",
   "metadata": {},
   "outputs": [
    {
     "data": {
      "text/plain": [
       "(5, 5)"
      ]
     },
     "execution_count": 3,
     "metadata": {},
     "output_type": "execute_result"
    }
   ],
   "source": [
    "input.shape"
   ]
  },
  {
   "cell_type": "code",
   "execution_count": 4,
   "id": "cfba13c7",
   "metadata": {},
   "outputs": [],
   "source": [
    "def plotIxIy(Ix, Iy):\n",
    "    plt.subplot(121)\n",
    "    plt.title(\"Ix\")\n",
    "    plt.imshow(Ix, cmap=\"gray\")\n",
    "    plt.subplot(122)\n",
    "    plt.title(\"Iy\")\n",
    "    plt.imshow(Iy, cmap=\"gray\")  "
   ]
  },
  {
   "cell_type": "code",
   "execution_count": null,
   "id": "58bf023a",
   "metadata": {},
   "outputs": [],
   "source": [
    "Ix = sobel(input, axis=0)\n",
    "Iy = sobel(input, axis=1)\n",
    "plotIxIy(Ix, Iy)"
   ]
  },
  {
   "cell_type": "code",
   "execution_count": 6,
   "id": "a1aab2fb",
   "metadata": {},
   "outputs": [],
   "source": [
    "Ixx = Ix**2\n",
    "Iyy = Iy**2\n",
    "Ixy = Ix*Iy\n",
    "GAUSS = np.array((\n",
    "    [1/16, 2/16, 1/16],\n",
    "    [2/16, 4/16, 2/16],\n",
    "    [1/16, 2/16, 1/16]), dtype=\"float64\")\n",
    "Ixx = convolve(Ixx, GAUSS)\n",
    "Iyy = convolve(Iyy, GAUSS)\n",
    "Ixy = convolve(Ixy, GAUSS)\n",
    "M = [[Ixx , Ixy],[Ixy, Iyy]]"
   ]
  },
  {
   "cell_type": "code",
   "execution_count": 7,
   "id": "680fb8e1",
   "metadata": {},
   "outputs": [
    {
     "name": "stdout",
     "output_type": "stream",
     "text": [
      "[[193.52  27.72 218.36  32.36 177.68]\n",
      " [ 73.92 222.44  58.88 153.4   52.16]\n",
      " [ 93.64 235.68 250.36 220.44  47.52]\n",
      " [104.44 216.2    0.92 233.36 143.72]\n",
      " [198.56  77.24 106.4  156.24  64.16]]\n"
     ]
    }
   ],
   "source": [
    "#Set k value -- sensitivity factor\n",
    "k = 0.04\n",
    "\n",
    "determinant = Ixx * Iyy - (Ixy ** 2)\n",
    "trace = Ixx + Iyy\n",
    "\n",
    "response = determinant - (k * trace ** 2)\n",
    "\n",
    "print(response)"
   ]
  },
  {
   "cell_type": "code",
   "execution_count": 8,
   "id": "880e2ad7",
   "metadata": {},
   "outputs": [
    {
     "data": {
      "text/plain": [
       "(2, 2)"
      ]
     },
     "execution_count": 8,
     "metadata": {},
     "output_type": "execute_result"
    }
   ],
   "source": [
    "np.unravel_index(response.argmax(), response.shape)"
   ]
  },
  {
   "cell_type": "code",
   "execution_count": 9,
   "id": "0eb91dab",
   "metadata": {},
   "outputs": [
    {
     "data": {
      "text/plain": [
       "array([[193.52,  27.72, 218.36,  32.36, 177.68],\n",
       "       [ 73.92, 222.44,  58.88, 153.4 ,  52.16],\n",
       "       [ 93.64, 235.68, 250.36, 220.44,  47.52],\n",
       "       [104.44, 216.2 ,   0.92, 233.36, 143.72],\n",
       "       [198.56,  77.24, 106.4 , 156.24,  64.16]])"
      ]
     },
     "execution_count": 9,
     "metadata": {},
     "output_type": "execute_result"
    }
   ],
   "source": [
    "response"
   ]
  },
  {
   "cell_type": "code",
   "execution_count": 10,
   "id": "1da2d5d6",
   "metadata": {},
   "outputs": [
    {
     "data": {
      "text/plain": [
       "array([[False, False, False, False, False],\n",
       "       [False, False, False, False, False],\n",
       "       [False, False, False, False, False],\n",
       "       [False, False, False, False, False],\n",
       "       [False, False, False, False, False]])"
      ]
     },
     "execution_count": 10,
     "metadata": {},
     "output_type": "execute_result"
    }
   ],
   "source": [
    "response == 0"
   ]
  },
  {
   "cell_type": "code",
   "execution_count": 11,
   "id": "b19e2910",
   "metadata": {},
   "outputs": [],
   "source": [
    "coords = np.unravel_index(np.argmax(response, axis=None), response.shape)"
   ]
  },
  {
   "cell_type": "code",
   "execution_count": 12,
   "id": "52772ddd",
   "metadata": {},
   "outputs": [
    {
     "data": {
      "text/plain": [
       "(2, 2)"
      ]
     },
     "execution_count": 12,
     "metadata": {},
     "output_type": "execute_result"
    }
   ],
   "source": [
    "coords"
   ]
  },
  {
   "cell_type": "code",
   "execution_count": null,
   "id": "cd82cc18",
   "metadata": {},
   "outputs": [],
   "source": [
    "fig, ax = plt.subplots()\n",
    "ax.imshow(input, cmap=plt.cm.gray)\n",
    "ax.plot(coords[0], coords[1], color='red', marker='o',\n",
    "        linestyle='None', markersize=20)\n",
    "plt.show()"
   ]
  }
 ],
 "metadata": {
  "kernelspec": {
   "display_name": "Python 3",
   "language": "python",
   "name": "python3"
  },
  "language_info": {
   "codemirror_mode": {
    "name": "ipython",
    "version": 3
   },
   "file_extension": ".py",
   "mimetype": "text/x-python",
   "name": "python",
   "nbconvert_exporter": "python",
   "pygments_lexer": "ipython3",
   "version": "3.8.8"
  }
 },
 "nbformat": 4,
 "nbformat_minor": 5
}
